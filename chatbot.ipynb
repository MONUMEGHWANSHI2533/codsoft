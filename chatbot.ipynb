{
  "nbformat": 4,
  "nbformat_minor": 0,
  "metadata": {
    "colab": {
      "provenance": []
    },
    "kernelspec": {
      "name": "python3",
      "display_name": "Python 3"
    },
    "language_info": {
      "name": "python"
    }
  },
  "cells": [
    {
      "cell_type": "code",
      "execution_count": null,
      "metadata": {
        "colab": {
          "base_uri": "https://localhost:8080/"
        },
        "id": "uN8j00oauPMs",
        "outputId": "ffb984e5-d7f7-4007-fab8-bc11fdcff542"
      },
      "outputs": [
        {
          "metadata": {
            "tags": null
          },
          "name": "stderr",
          "output_type": "stream",
          "text": [
            "[nltk_data] Downloading package punkt to /root/nltk_data...\n",
            "[nltk_data]   Unzipping tokenizers/punkt.zip.\n"
          ]
        },
        {
          "metadata": {
            "tags": null
          },
          "name": "stdout",
          "output_type": "stream",
          "text": [
            "Chatbot: Hello! How can I assist you today?\n"
          ]
        }
      ],
      "source": [
        "import nltk\n",
        "from nltk.chat.util import Chat, reflections\n",
        "import spacy\n",
        "\n",
        "# Download necessary NLTK data files\n",
        "nltk.download('punkt')\n",
        "\n",
        "# Load the small English model in spaCy\n",
        "nlp = spacy.load(\"en_core_web_sm\")\n",
        "\n",
        "# Define a set of patterns and responses for the NLTK part of the chatbot\n",
        "pairs = [\n",
        "    [r\"my name is (.*)\", [\"Hello %1, how can I help you today?\"]],\n",
        "    [r\"hi|hello|hey\", [\"Hello! How can I assist you?\"]],\n",
        "    [r\"what is your name?\", [\"I'm a chatbot created by you.\"]],\n",
        "    [r\"how are you?\", [\"I'm just a bunch of code, but thanks for asking! How are you?\"]],\n",
        "    [r\"what can you do?\", [\"I can help with simple queries. Ask me about the weather, time, or more.\"]],\n",
        "    [r\"quit|bye|exit\", [\"Goodbye! Have a great day!\"]],\n",
        "]\n",
        "\n",
        "# Initialize the NLTK chatbot\n",
        "nltk_chatbot = Chat(pairs, reflections)\n",
        "\n",
        "def combined_chatbot():\n",
        "    print(\"Chatbot: Hello! How can I assist you today?\")\n",
        "\n",
        "    while True:\n",
        "        user_input = input(\"You: \").lower()\n",
        "\n",
        "        # Check for exit condition\n",
        "        if \"bye\" in user_input or \"exit\" in user_input:\n",
        "            print(\"Chatbot: Goodbye! Have a nice day!\")\n",
        "            break\n",
        "\n",
        "        # Process user input with spaCy\n",
        "        doc = nlp(user_input)\n",
        "\n",
        "        # Use spaCy for entity recognition and pattern matching\n",
        "        if any(ent.label_ == \"TIME\" for ent in doc.ents):\n",
        "            print(\"Chatbot: The current time is 2:30 PM.\")\n",
        "        elif \"weather\" in user_input:\n",
        "            print(\"Chatbot: The weather today is sunny with a slight chance of rain in the afternoon.\")\n",
        "        elif \"name\" in user_input:\n",
        "            print(\"Chatbot: I'm a chatbot created by you.\")\n",
        "        else:\n",
        "            # Fall back to NLTK-based responses\n",
        "            response = nltk_chatbot.respond(user_input)\n",
        "            if response:\n",
        "                print(f\"Chatbot: {response}\")\n",
        "            else:\n",
        "                print(\"Chatbot: I'm sorry, I didn't quite understand that. Can you please rephrase?\")\n",
        "\n",
        "# Run the combined chatbot\n",
        "combined_chatbot()"
      ]
    }
  ]
}